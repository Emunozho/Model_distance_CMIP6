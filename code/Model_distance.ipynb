{
 "cells": [
  {
   "cell_type": "markdown",
   "id": "3bbc217e-800d-47a6-b657-933f849d769b",
   "metadata": {},
   "source": [
    "# Calculation of maps of weights\n",
    "\n",
    "- ESM models: Results of 8 $\\textbf{CMIP6}$ models.\n",
    "\n",
    "- Products based on observations to use as reference: $\\textbf{X-BASE}$ (FLUXCOM-X) for NEP and $\\textbf{CarboScope}$ for NBP.\n",
    "\n",
    "This notebook assumes that users have local access to CMIP6 model results. Due to their large size, these datasets are not included but can be downloaded from the portals:\n",
    "\n",
    "- USA, PCMDI/LLNL (California) -  https://esgf-node.llnl.gov/search/cmip6/\n",
    "\n",
    "- France, IPSL -  https://esgf-node.ipsl.upmc.fr/search/cmip6-ipsl/\n",
    "\n",
    "- Germany, DKRZ - https://esgf-data.dkrz.de/search/cmip6-dkrz/\n",
    "\n",
    "- UK, CEDA - https://esgf-index1.ceda.ac.uk/search/cmip6-ceda/\n"
   ]
  },
  {
   "cell_type": "markdown",
   "id": "561dd38a-49d7-4d6e-b258-eba92bbdd0d8",
   "metadata": {
    "tags": []
   },
   "source": [
    "#### Libraries"
   ]
  },
  {
   "cell_type": "code",
   "execution_count": 1,
   "id": "48d8b7f9",
   "metadata": {},
   "outputs": [],
   "source": [
    "from data_compilation import *"
   ]
  },
  {
   "cell_type": "markdown",
   "id": "d333d7e0-5e6b-4ef3-8616-0eb7f46beb3f",
   "metadata": {},
   "source": [
    "## Read data\n",
    "\n",
    "- CMIP6: 01/1850-12/2014\n",
    "- X-BASE (FLUXCOM-X):01/2001-12/2021\n",
    "- CarboScope: 01/1957-12/2023"
   ]
  },
  {
   "cell_type": "code",
   "execution_count": 9,
   "id": "2d7952c7-14fc-4ca3-8aa0-4e6df4cd1a54",
   "metadata": {},
   "outputs": [],
   "source": [
    "# choose an observations-based product.\n",
    "ob='CarboScope' # 'FLUXCOM-X','CarboScope'. Note that FLUXCOM-X only has nee and CarboScope nbp.\n",
    "mb='CMIP6' "
   ]
  },
  {
   "cell_type": "code",
   "execution_count": 10,
   "id": "3f23dfd6-ce80-420e-8b8d-57269d344ba5",
   "metadata": {
    "scrolled": true
   },
   "outputs": [
    {
     "name": "stderr",
     "output_type": "stream",
     "text": [
      "/home/estefania/anaconda3/envs/xesmf_env/lib/python3.12/site-packages/xarray/conventions.py:284: SerializationWarning: variable 'nbp' has multiple fill values {np.float32(1e+20), np.float64(1e+20)} defined, decoding all values to NaN.\n",
      "  var = coder.decode(var, name=name)\n",
      "/home/estefania/anaconda3/envs/xesmf_env/lib/python3.12/site-packages/xarray/conventions.py:284: SerializationWarning: variable 'nbp' has multiple fill values {np.float32(1e+20), np.float64(1e+20)} defined, decoding all values to NaN.\n",
      "  var = coder.decode(var, name=name)\n",
      "/home/estefania/anaconda3/envs/xesmf_env/lib/python3.12/site-packages/xarray/conventions.py:284: SerializationWarning: variable 'nbp' has multiple fill values {np.float32(1e+20), np.float64(1e+20)} defined, decoding all values to NaN.\n",
      "  var = coder.decode(var, name=name)\n",
      "/home/estefania/anaconda3/envs/xesmf_env/lib/python3.12/site-packages/xarray/conventions.py:284: SerializationWarning: variable 'nbp' has multiple fill values {np.float32(1e+20), np.float64(1e+20)} defined, decoding all values to NaN.\n",
      "  var = coder.decode(var, name=name)\n"
     ]
    }
   ],
   "source": [
    "if ob=='FLUXCOM-X':\n",
    "    mbv='nep'\n",
    "    d1=\"2001-01\";d2=\"2014-12\" # CMIP6-FLUXCOM.\n",
    "    varESM=get_nepCMIP6(d1,d2)[0]\n",
    "    varObs=get_neeFLUXCOM(d1,d2) # it takes a long time.\n",
    "    varObs=varObs*(-1) # FlUXCOM-X considers flux into the atmosphere positive.\n",
    "if ob=='CarboScope':\n",
    "    mbv='nbp'\n",
    "    d1=\"1957-01\"; d2=\"2014-12\" # CMIP6-Carboscope.\n",
    "    varESM=get_nbpCMIP6(d1,d2)  \n",
    "    varObs=get_nbpCarboscope(d1,d2)*(-1) # CarboScope considers flux into the atmosphere positive."
   ]
  },
  {
   "cell_type": "markdown",
   "id": "05f1ebcc-047e-4ac0-854d-57e1506bec64",
   "metadata": {},
   "source": [
    "## Weights\n",
    "Calculations based on procedure in described in the attached manuscript."
   ]
  },
  {
   "cell_type": "code",
   "execution_count": 11,
   "id": "2569fe11-e11f-4ab8-9f64-ebb399c36f09",
   "metadata": {},
   "outputs": [],
   "source": [
    "e2=(varESM-varObs)**2 # (Eq.16) [(kgC m-2 yr-1)^2] # residual for each grid cell and each time point between model i and data product j.\n",
    "n=len(e2.time)\n",
    "s2=e2.sum(\"time\",skipna=False)/n # (Eq.17) [(kgC m-2 yr-1)^2] # variance over time\n",
    "#s2=s2*maskl\n",
    "A=n*np.log(s2) # (Eq.18) [(kgC m-2 yr-1)^2]. \n",
    "Amin=A.to_array(\"variable\").min(\"variable\") # (Eq. 19) grid-cells from this set of maps in which the values of A are the lowest.\n",
    "D=A-Amin # (Eq.20) differences with respect to Amin minimum.\n",
    "wm=np.exp(-D/n)/(np.exp(-D/n).to_array(\"variable\").sum(\"variable\")) #(Eq. 21) # maps of weights [-]."
   ]
  },
  {
   "cell_type": "code",
   "execution_count": 12,
   "id": "edbfd12f-77d4-4e94-91a7-d00cdd3b29ef",
   "metadata": {},
   "outputs": [],
   "source": [
    "Amin.to_netcdf('/home/data/ResultsCS/Weights/'+mbv+mb+'_ob_'+ob+'_Amin.nc')"
   ]
  },
  {
   "cell_type": "markdown",
   "id": "58123c8b-b684-4652-9d98-a5081b3bb184",
   "metadata": {},
   "source": [
    "#### Save results"
   ]
  },
  {
   "cell_type": "code",
   "execution_count": 24,
   "id": "9d33131b-92de-4d64-84fd-d1cfb9e57f71",
   "metadata": {},
   "outputs": [],
   "source": [
    "Amin.to_netcdf('/home/data/ResultsCS/Weights/'+mbv+mb+'_ob_'+ob+'_Amin.nc')\n",
    "wm.to_netcdf('/home/data/ResultsCS/Weights/'+mbv+mb+'_ob_'+ob+'.nc')\n",
    "s2.to_netcdf('/home/data/ResultsCS/Weights/'+mbv+mb+'_ob_'+ob+'_variance.nc') # to calculate the variance."
   ]
  }
 ],
 "metadata": {
  "kernelspec": {
   "display_name": "Python 3 (ipykernel)",
   "language": "python",
   "name": "python3"
  },
  "language_info": {
   "codemirror_mode": {
    "name": "ipython",
    "version": 3
   },
   "file_extension": ".py",
   "mimetype": "text/x-python",
   "name": "python",
   "nbconvert_exporter": "python",
   "pygments_lexer": "ipython3",
   "version": "3.9.15"
  }
 },
 "nbformat": 4,
 "nbformat_minor": 5
}
